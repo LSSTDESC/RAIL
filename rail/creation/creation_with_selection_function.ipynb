{
 "cells": [
  {
   "cell_type": "markdown",
   "metadata": {},
   "source": [
    "This notebook loads a normalizing flow into a creator object and applies a selection function."
   ]
  },
  {
   "cell_type": "code",
   "execution_count": 1,
   "metadata": {},
   "outputs": [],
   "source": [
    "import numpy as np\n",
    "import matplotlib.pyplot as plt\n",
    "import matplotlib.patches as mpl_patches\n",
    "\n",
    "from creator import Creator\n",
    "from normalizingFlow import NormalizingFlow\n",
    "from rqNeuralSplineFlow import RQNeuralSplineFlow"
   ]
  },
  {
   "cell_type": "code",
   "execution_count": 2,
   "metadata": {},
   "outputs": [],
   "source": [
    "%config InlineBackend.figure_format = 'retina'"
   ]
  },
  {
   "cell_type": "markdown",
   "metadata": {},
   "source": [
    "First, load the generator, which in this case will be the normalizing flow created in `redshift_flow_example.ipynb`"
   ]
  },
  {
   "cell_type": "code",
   "execution_count": 3,
   "metadata": {},
   "outputs": [],
   "source": [
    "# load the generator\n",
    "flow = NormalizingFlow(RQNeuralSplineFlow, file='demo_flow.pkl')"
   ]
  },
  {
   "cell_type": "markdown",
   "metadata": {},
   "source": [
    "Use this flow to initialize an unbiased creator"
   ]
  },
  {
   "cell_type": "code",
   "execution_count": 4,
   "metadata": {},
   "outputs": [],
   "source": [
    "# instantiate the creator\n",
    "creator = Creator(flow)"
   ]
  },
  {
   "cell_type": "markdown",
   "metadata": {},
   "source": [
    "Let's use this creator to generate a test set"
   ]
  },
  {
   "cell_type": "code",
   "execution_count": 5,
   "metadata": {},
   "outputs": [
    {
     "name": "stdout",
     "output_type": "stream",
     "text": [
      "CPU times: user 20min 54s, sys: 15min 44s, total: 36min 38s\n",
      "Wall time: 6min 53s\n"
     ]
    }
   ],
   "source": [
    "%%time \n",
    "# draw the samples\n",
    "samples = creator.sample(20000, include_pdf=True, seed=0)"
   ]
  },
  {
   "cell_type": "markdown",
   "metadata": {},
   "source": [
    "We'll make a ''public'' test set, that consists of the galaxy magnitudes, and a ''private'' test set, which consists of the galaxy redshifts and posteriors."
   ]
  },
  {
   "cell_type": "code",
   "execution_count": 9,
   "metadata": {},
   "outputs": [],
   "source": [
    "test_public = samples[['u','g','r','i','z','y']]\n",
    "test_private = samples[['redshift', 'pz_pdf']]"
   ]
  },
  {
   "cell_type": "code",
   "execution_count": 10,
   "metadata": {},
   "outputs": [],
   "source": [
    "test_public.to_pickle('testset_public.pkl')\n",
    "test_private.to_pickle('testset_private.pkl')"
   ]
  },
  {
   "cell_type": "markdown",
   "metadata": {},
   "source": [
    "Now let's use the normalizing flow to initialize a biased creator. We create this bias by defining a selection function, which keeps galaxies with probability $p_{\\text{keep}}(z) = \\min(1, \\frac{z_p}{z})$, where $z_p$ is the ''pivot'' redshift. Below, I use $z_p = 0.8$."
   ]
  },
  {
   "cell_type": "code",
   "execution_count": 21,
   "metadata": {},
   "outputs": [],
   "source": [
    "def selection_fn(data, seed=None):\n",
    "    pivot_redshift = 0.8\n",
    "    probs = np.clip(pivot_redshift/data['redshift'], 0, 1)\n",
    "    rng = np.random.default_rng(seed)\n",
    "    idx = np.where(rng.random(size=len(data)) <= probs)\n",
    "    biased_data = data.iloc[idx]\n",
    "    return biased_data"
   ]
  },
  {
   "cell_type": "code",
   "execution_count": 12,
   "metadata": {},
   "outputs": [],
   "source": [
    "# instantiate the creator\n",
    "biased_creator = Creator(flow, selection_fn=selection_fn)"
   ]
  },
  {
   "cell_type": "markdown",
   "metadata": {},
   "source": [
    "Now lets use this biased creator to make a training set"
   ]
  },
  {
   "cell_type": "code",
   "execution_count": 13,
   "metadata": {},
   "outputs": [],
   "source": [
    "biased_samples = biased_creator.sample(80000, include_pdf=False, seed=0)"
   ]
  },
  {
   "cell_type": "code",
   "execution_count": 18,
   "metadata": {},
   "outputs": [],
   "source": [
    "biased_samples.to_pickle('trainingset.pkl')"
   ]
  },
  {
   "cell_type": "markdown",
   "metadata": {},
   "source": [
    "Let's plot a histogram of the biased and unbiased samples to make sure the selection function is doing what we want it to."
   ]
  },
  {
   "cell_type": "code",
   "execution_count": 17,
   "metadata": {},
   "outputs": [
    {
     "data": {
      "image/png": "[encoded data removed]",
      "text/plain": [
       "<Figure size 432x288 with 1 Axes>"
      ]
     },
     "metadata": {
      "image/png": {
       "height": 261,
       "width": 395
      },
      "needs_background": "light"
     },
     "output_type": "display_data"
    }
   ],
   "source": [
    "plt.hist(samples['redshift'], bins=50, range=(0,2.5), histtype='step', color='C0', label='Unbiased')\n",
    "plt.hist(biased_samples['redshift'][:20000], bins=50, range=(0,2.5), histtype='step', color='C3', label='Biased')\n",
    "plt.legend()\n",
    "plt.xlabel('redshift')\n",
    "plt.ylabel('N galaxies')\n",
    "plt.show()"
   ]
  },
  {
   "cell_type": "code",
   "execution_count": null,
   "metadata": {},
   "outputs": [],
   "source": []
  }
 ],
 "metadata": {
  "kernelspec": {
   "display_name": "mydesc",
   "language": "python",
   "name": "mydesc"
  },
  "language_info": {
   "codemirror_mode": {
    "name": "ipython",
    "version": 3
   },
   "file_extension": ".py",
   "mimetype": "text/x-python",
   "name": "python",
   "nbconvert_exporter": "python",
   "pygments_lexer": "ipython3",
   "version": "3.7.6"
  }
 },
 "nbformat": 4,
 "nbformat_minor": 4
}
