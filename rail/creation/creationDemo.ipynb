{
 "cells": [
  {
   "cell_type": "markdown",
   "metadata": {},
   "source": [
    "# RAIL Creator Demo"
   ]
  },
  {
   "cell_type": "markdown",
   "metadata": {},
   "source": [
    "## Imports"
   ]
  },
  {
   "cell_type": "code",
   "execution_count": 1,
   "metadata": {},
   "outputs": [],
   "source": [
    "from creator import Creator\n",
    "from sampleJaxGenerator import jaxNFGenerator"
   ]
  },
  {
   "cell_type": "markdown",
   "metadata": {},
   "source": [
    "## Create Sample Catalog"
   ]
  },
  {
   "cell_type": "code",
   "execution_count": 2,
   "metadata": {},
   "outputs": [],
   "source": [
    "# Load Model Class\n",
    "jax_gen = jaxNFGenerator() "
   ]
  },
  {
   "cell_type": "code",
   "execution_count": 5,
   "metadata": {},
   "outputs": [],
   "source": [
    "# Tell creator what type of model to use and file where parameters are stored\n",
    "cat_creator = Creator('jax_nf_example_opt.pkl', jax_gen)      "
   ]
  },
  {
   "cell_type": "code",
   "execution_count": 6,
   "metadata": {},
   "outputs": [
    {
     "name": "stdout",
     "output_type": "stream",
     "text": [
      "Drawing 10000 samples from jax_nf_example_opt.pkl.\n"
     ]
    }
   ],
   "source": [
    "# Now creator API should create catalog\n",
    "sample_df = cat_creator.sample_pspace(n_gals=10000)   "
   ]
  },
  {
   "cell_type": "code",
   "execution_count": 7,
   "metadata": {},
   "outputs": [
    {
     "data": {
      "text/html": [
       "<div>\n",
       "<style scoped>\n",
       "    .dataframe tbody tr th:only-of-type {\n",
       "        vertical-align: middle;\n",
       "    }\n",
       "\n",
       "    .dataframe tbody tr th {\n",
       "        vertical-align: top;\n",
       "    }\n",
       "\n",
       "    .dataframe thead th {\n",
       "        text-align: right;\n",
       "    }\n",
       "</style>\n",
       "<table border=\"1\" class=\"dataframe\">\n",
       "  <thead>\n",
       "    <tr style=\"text-align: right;\">\n",
       "      <th></th>\n",
       "      <th>redshift</th>\n",
       "      <th>r_mag_normalized</th>\n",
       "      <th>umg</th>\n",
       "      <th>gmr</th>\n",
       "      <th>rmi</th>\n",
       "      <th>imz</th>\n",
       "      <th>zmy</th>\n",
       "      <th>r</th>\n",
       "      <th>g</th>\n",
       "      <th>u</th>\n",
       "      <th>i</th>\n",
       "      <th>z</th>\n",
       "      <th>y</th>\n",
       "    </tr>\n",
       "  </thead>\n",
       "  <tbody>\n",
       "    <tr>\n",
       "      <th>0</th>\n",
       "      <td>1.760979</td>\n",
       "      <td>1.781547</td>\n",
       "      <td>1.030416</td>\n",
       "      <td>0.564135</td>\n",
       "      <td>1.224956</td>\n",
       "      <td>1.041759</td>\n",
       "      <td>0.468599</td>\n",
       "      <td>27.920233</td>\n",
       "      <td>28.484368</td>\n",
       "      <td>29.514784</td>\n",
       "      <td>26.695277</td>\n",
       "      <td>25.653518</td>\n",
       "      <td>25.184919</td>\n",
       "    </tr>\n",
       "    <tr>\n",
       "      <th>1</th>\n",
       "      <td>1.813347</td>\n",
       "      <td>1.316931</td>\n",
       "      <td>1.304104</td>\n",
       "      <td>0.809164</td>\n",
       "      <td>0.647959</td>\n",
       "      <td>0.749728</td>\n",
       "      <td>0.304879</td>\n",
       "      <td>27.260224</td>\n",
       "      <td>28.069388</td>\n",
       "      <td>29.373492</td>\n",
       "      <td>26.612265</td>\n",
       "      <td>25.862537</td>\n",
       "      <td>25.557658</td>\n",
       "    </tr>\n",
       "    <tr>\n",
       "      <th>2</th>\n",
       "      <td>1.014494</td>\n",
       "      <td>0.791624</td>\n",
       "      <td>0.419900</td>\n",
       "      <td>0.567254</td>\n",
       "      <td>0.595965</td>\n",
       "      <td>0.295207</td>\n",
       "      <td>0.540734</td>\n",
       "      <td>26.514000</td>\n",
       "      <td>27.081254</td>\n",
       "      <td>27.501154</td>\n",
       "      <td>25.918036</td>\n",
       "      <td>25.622829</td>\n",
       "      <td>25.082095</td>\n",
       "    </tr>\n",
       "    <tr>\n",
       "      <th>3</th>\n",
       "      <td>0.529003</td>\n",
       "      <td>-2.465024</td>\n",
       "      <td>0.212450</td>\n",
       "      <td>0.842413</td>\n",
       "      <td>0.871180</td>\n",
       "      <td>0.303158</td>\n",
       "      <td>0.309199</td>\n",
       "      <td>21.887778</td>\n",
       "      <td>22.730191</td>\n",
       "      <td>22.942641</td>\n",
       "      <td>21.016598</td>\n",
       "      <td>20.713441</td>\n",
       "      <td>20.404242</td>\n",
       "    </tr>\n",
       "    <tr>\n",
       "      <th>4</th>\n",
       "      <td>0.778541</td>\n",
       "      <td>0.400097</td>\n",
       "      <td>0.600196</td>\n",
       "      <td>0.585385</td>\n",
       "      <td>0.689787</td>\n",
       "      <td>0.170917</td>\n",
       "      <td>0.085457</td>\n",
       "      <td>25.957817</td>\n",
       "      <td>26.543203</td>\n",
       "      <td>27.143399</td>\n",
       "      <td>25.268031</td>\n",
       "      <td>25.097113</td>\n",
       "      <td>25.011656</td>\n",
       "    </tr>\n",
       "  </tbody>\n",
       "</table>\n",
       "</div>"
      ],
      "text/plain": [
       "   redshift  r_mag_normalized       umg       gmr       rmi       imz  \\\n",
       "0  1.760979          1.781547  1.030416  0.564135  1.224956  1.041759   \n",
       "1  1.813347          1.316931  1.304104  0.809164  0.647959  0.749728   \n",
       "2  1.014494          0.791624  0.419900  0.567254  0.595965  0.295207   \n",
       "3  0.529003         -2.465024  0.212450  0.842413  0.871180  0.303158   \n",
       "4  0.778541          0.400097  0.600196  0.585385  0.689787  0.170917   \n",
       "\n",
       "        zmy          r          g          u          i          z          y  \n",
       "0  0.468599  27.920233  28.484368  29.514784  26.695277  25.653518  25.184919  \n",
       "1  0.304879  27.260224  28.069388  29.373492  26.612265  25.862537  25.557658  \n",
       "2  0.540734  26.514000  27.081254  27.501154  25.918036  25.622829  25.082095  \n",
       "3  0.309199  21.887778  22.730191  22.942641  21.016598  20.713441  20.404242  \n",
       "4  0.085457  25.957817  26.543203  27.143399  25.268031  25.097113  25.011656  "
      ]
     },
     "execution_count": 7,
     "metadata": {},
     "output_type": "execute_result"
    }
   ],
   "source": [
    "sample_df.head()"
   ]
  },
  {
   "cell_type": "code",
   "execution_count": null,
   "metadata": {},
   "outputs": [],
   "source": []
  }
 ],
 "metadata": {
  "kernelspec": {
   "display_name": "bryce-desc",
   "language": "python",
   "name": "bryce-desc"
  },
  "language_info": {
   "codemirror_mode": {
    "name": "ipython",
    "version": 3
   },
   "file_extension": ".py",
   "mimetype": "text/x-python",
   "name": "python",
   "nbconvert_exporter": "python",
   "pygments_lexer": "ipython3",
   "version": "3.8.2"
  }
 },
 "nbformat": 4,
 "nbformat_minor": 4
}
