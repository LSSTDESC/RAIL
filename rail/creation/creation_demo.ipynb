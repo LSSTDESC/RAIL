{
 "cells": [
  {
   "cell_type": "markdown",
   "metadata": {},
   "source": [
    "This notebook shows how to load a normalizing flow, instantiate a creator, and create a sample of galaxy redshift and magnitudes"
   ]
  },
  {
   "cell_type": "code",
   "execution_count": 1,
   "metadata": {},
   "outputs": [],
   "source": [
    "from creator import Creator\n",
    "from normalizingFlow import NormalizingFlow\n",
    "from rqNeuralSplineFlow import RQNeuralSplineFlow"
   ]
  },
  {
   "cell_type": "code",
   "execution_count": 2,
   "metadata": {},
   "outputs": [],
   "source": [
    "# load the generator\n",
    "flow = NormalizingFlow(RQNeuralSplineFlow, file='demo_flow.pkl')"
   ]
  },
  {
   "cell_type": "code",
   "execution_count": 3,
   "metadata": {},
   "outputs": [],
   "source": [
    "# instantiate the creator\n",
    "creator = Creator(flow)"
   ]
  },
  {
   "cell_type": "code",
   "execution_count": 8,
   "metadata": {},
   "outputs": [
    {
     "name": "stderr",
     "output_type": "stream",
     "text": [
      "/global/common/software/lsst/users/jfc20/mydesc/lib/python3.7/site-packages/jax/numpy/lax_numpy.py:1531: FutureWarning: jax.numpy reductions won't accept lists and tuples in future versions, only scalars and ndarrays\n",
      "  warnings.warn(msg, category=FutureWarning)\n",
      "/global/common/software/lsst/users/jfc20/mydesc/lib/python3.7/site-packages/jax/lax/lax.py:5591: UserWarning: Explicitly requested dtype <class 'jax.numpy.lax_numpy.int64'> requested in zeros is not available, and will be truncated to dtype int32. To enable more dtypes, set the jax_enable_x64 configuration option or the JAX_ENABLE_X64 shell environment variable. See https://github.com/google/jax#current-gotchas for more.\n",
      "  warnings.warn(msg.format(dtype, fun_name , truncated_dtype))\n",
      "/global/common/software/lsst/users/jfc20/mydesc/lib/python3.7/site-packages/jax/lax/lax.py:5591: UserWarning: Explicitly requested dtype <class 'jax.numpy.lax_numpy.int64'> requested in astype is not available, and will be truncated to dtype int32. To enable more dtypes, set the jax_enable_x64 configuration option or the JAX_ENABLE_X64 shell environment variable. See https://github.com/google/jax#current-gotchas for more.\n",
      "  warnings.warn(msg.format(dtype, fun_name , truncated_dtype))\n"
     ]
    }
   ],
   "source": [
    "sample = creator.sample(10000, seed=0)"
   ]
  },
  {
   "cell_type": "code",
   "execution_count": 9,
   "metadata": {},
   "outputs": [
    {
     "data": {
      "text/html": [
       "<div>\n",
       "<style scoped>\n",
       "    .dataframe tbody tr th:only-of-type {\n",
       "        vertical-align: middle;\n",
       "    }\n",
       "\n",
       "    .dataframe tbody tr th {\n",
       "        vertical-align: top;\n",
       "    }\n",
       "\n",
       "    .dataframe thead th {\n",
       "        text-align: right;\n",
       "    }\n",
       "</style>\n",
       "<table border=\"1\" class=\"dataframe\">\n",
       "  <thead>\n",
       "    <tr style=\"text-align: right;\">\n",
       "      <th></th>\n",
       "      <th>redshift</th>\n",
       "      <th>u</th>\n",
       "      <th>g</th>\n",
       "      <th>r</th>\n",
       "      <th>i</th>\n",
       "      <th>z</th>\n",
       "      <th>y</th>\n",
       "    </tr>\n",
       "  </thead>\n",
       "  <tbody>\n",
       "    <tr>\n",
       "      <th>0</th>\n",
       "      <td>0.327615</td>\n",
       "      <td>27.492502</td>\n",
       "      <td>26.766901</td>\n",
       "      <td>26.051714</td>\n",
       "      <td>25.851719</td>\n",
       "      <td>25.649448</td>\n",
       "      <td>25.623770</td>\n",
       "    </tr>\n",
       "    <tr>\n",
       "      <th>1</th>\n",
       "      <td>0.266856</td>\n",
       "      <td>26.542746</td>\n",
       "      <td>25.686508</td>\n",
       "      <td>25.097267</td>\n",
       "      <td>24.862265</td>\n",
       "      <td>24.765139</td>\n",
       "      <td>24.650902</td>\n",
       "    </tr>\n",
       "    <tr>\n",
       "      <th>2</th>\n",
       "      <td>1.278494</td>\n",
       "      <td>27.811972</td>\n",
       "      <td>26.956390</td>\n",
       "      <td>26.151596</td>\n",
       "      <td>25.453327</td>\n",
       "      <td>24.810278</td>\n",
       "      <td>24.229086</td>\n",
       "    </tr>\n",
       "    <tr>\n",
       "      <th>3</th>\n",
       "      <td>0.801114</td>\n",
       "      <td>28.586660</td>\n",
       "      <td>27.630808</td>\n",
       "      <td>26.048927</td>\n",
       "      <td>24.761028</td>\n",
       "      <td>24.278296</td>\n",
       "      <td>24.020912</td>\n",
       "    </tr>\n",
       "    <tr>\n",
       "      <th>4</th>\n",
       "      <td>0.637461</td>\n",
       "      <td>23.747169</td>\n",
       "      <td>23.281570</td>\n",
       "      <td>22.459063</td>\n",
       "      <td>21.852486</td>\n",
       "      <td>21.710953</td>\n",
       "      <td>21.542067</td>\n",
       "    </tr>\n",
       "  </tbody>\n",
       "</table>\n",
       "</div>"
      ],
      "text/plain": [
       "   redshift          u          g          r          i          z          y\n",
       "0  0.327615  27.492502  26.766901  26.051714  25.851719  25.649448  25.623770\n",
       "1  0.266856  26.542746  25.686508  25.097267  24.862265  24.765139  24.650902\n",
       "2  1.278494  27.811972  26.956390  26.151596  25.453327  24.810278  24.229086\n",
       "3  0.801114  28.586660  27.630808  26.048927  24.761028  24.278296  24.020912\n",
       "4  0.637461  23.747169  23.281570  22.459063  21.852486  21.710953  21.542067"
      ]
     },
     "execution_count": 9,
     "metadata": {},
     "output_type": "execute_result"
    }
   ],
   "source": [
    "sample.head()"
   ]
  },
  {
   "cell_type": "code",
   "execution_count": null,
   "metadata": {},
   "outputs": [],
   "source": []
  }
 ],
 "metadata": {
  "kernelspec": {
   "display_name": "mydesc",
   "language": "python",
   "name": "mydesc"
  },
  "language_info": {
   "codemirror_mode": {
    "name": "ipython",
    "version": 3
   },
   "file_extension": ".py",
   "mimetype": "text/x-python",
   "name": "python",
   "nbconvert_exporter": "python",
   "pygments_lexer": "ipython3",
   "version": "3.7.6"
  }
 },
 "nbformat": 4,
 "nbformat_minor": 4
}
