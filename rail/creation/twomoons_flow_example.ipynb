{
 "cells": [
  {
   "cell_type": "markdown",
   "metadata": {},
   "source": [
    "**Warning:** the classes in this notebook are no longer up-to-date with the classes defined in the '.py' files. See `flow_demo.ipynb` for example of using those. This notebook still exists as a simple example of applying normalizing flows to a 2D data set, and as an example of how to use hyperopt to search the hyperparameter space.\n",
    "\n",
    "---\n",
    "\n",
    "This notebook demonstrates an example of the NormalizingFlow class, and a specific implementation of the Rational Quadratic Spline Flows from https://arxiv.org/abs/1906.04032.\n",
    "\n",
    "The NormalizingFlow class is agnostic to the architecture of the flow, it is just a wrapper for flax modules that return a tensorflow probability transformed distribution. The idea is to make instantiation, log_prob, sampling, and training easy and straightforward.\n",
    "\n",
    "After training a flow on data and plotting the results, hyperopt is used to search the hyperparameter space.\n",
    "\n",
    "This notebook is a test case that will later be applied to the redshift-color space."
   ]
  },
  {
   "cell_type": "code",
   "execution_count": 2,
   "metadata": {},
   "outputs": [],
   "source": [
    "import numpy as np\n",
    "import matplotlib.pyplot as plt\n",
    "\n",
    "import jax\n",
    "import jax.numpy as jnp\n",
    "import flax\n",
    "from flax import nn\n",
    "\n",
    "from tensorflow_probability.python.internal.backend import jax as tf\n",
    "import tensorflow_probability as tfp; tfp = tfp.experimental.substrates.jax\n",
    "tfb = tfp.bijectors\n",
    "tfd = tfp.distributions\n",
    "\n",
    "from jax_nf.real_nvp import RealNVP"
   ]
  },
  {
   "cell_type": "markdown",
   "metadata": {},
   "source": [
    "## Implementing the flow\n",
    "\n",
    "First, I implement the Rational Quadratic Neural Spline coupling from https://arxiv.org/abs/1906.04032.\n",
    "\n",
    "This is built inside a [flax module](https://flax.readthedocs.io/en/latest/notebooks/flax_guided_tour.html), using the [RationalQuadraticSpline bijector](https://www.tensorflow.org/probability/api_docs/python/tfp/bijectors/RationalQuadraticSpline) from tensorflow probability."
   ]
  },
  {
   "cell_type": "code",
   "execution_count": 3,
   "metadata": {},
   "outputs": [],
   "source": [
    "@nn.module\n",
    "def RQNeuralSplineCoupling(x, nfeatures, hyperparams):\n",
    "    \"\"\"\n",
    "    Rational Quadratic Neural Spline coupling Conor Durkan, Artur Bekasov, Iain Murray, \n",
    "    George Papamakarios. Neural Spline Flows, 2019. http://arxiv.org/abs/1906.04032\n",
    "    \n",
    "    x is the input\n",
    "    nfeatures is the number of features\n",
    "    hyperparams is a dictionary that should contain the following:\n",
    "        - nbins is the number of spline bins. Number of knots is nbins + 1\n",
    "        - cf_range_max sets the range of the splines. Outside of the range\n",
    "            (-cf_range_max,+cf_range_max), the coupling is just the identity\n",
    "        - cf_dim is the dimension of hidden layers in the coupling function, \n",
    "            which is a dense network\n",
    "        - cf_layers is the number of layers in the coupling function\n",
    "    \"\"\"\n",
    "    \n",
    "    # unpack the hyperparameter dictionary\n",
    "    nbins = hyperparams['nbins']\n",
    "    cf_range_max = hyperparams['cf_range_max']\n",
    "    cf_dim = hyperparams['cf_dim']\n",
    "    cf_layers = hyperparams['cf_layers']\n",
    "    \n",
    "    # coupling function: y = cf(x)\n",
    "    # we use a dense feed forward network\n",
    "    # from paper: theta_i = NN(x_1:d-1)\n",
    "    y = x\n",
    "    for _ in range(cf_layers - 1):\n",
    "        y = nn.leaky_relu(nn.Dense(y, cf_dim))\n",
    "    y = nn.Dense(y, nfeatures * (3*nbins - 1))\n",
    "    y = jnp.reshape(y, [-1, nfeatures, 3*nbins - 1])\n",
    "    \n",
    "    # pull out widths, heights, derivatives\n",
    "    bin_widths, bin_heights, knot_slopes = jnp.split(y, [nbins, 2*nbins], axis=2)\n",
    "    # apply transforms as listed in the paper\n",
    "    bin_widths = 2 * cf_range_max * nn.softmax(bin_widths, axis=-1)\n",
    "    bin_heights = 2 * cf_range_max * nn.softmax(bin_heights, axis=-1)\n",
    "    knot_slopes = nn.softplus(knot_slopes)\n",
    "    \n",
    "    # return the rational quadratic spline coupling\n",
    "    return tfb.RationalQuadraticSpline(bin_widths=bin_widths,\n",
    "                                       bin_heights=bin_heights,\n",
    "                                       knot_slopes=knot_slopes,\n",
    "                                       range_min=-cf_range_max)"
   ]
  },
  {
   "cell_type": "markdown",
   "metadata": {},
   "source": [
    "Now I build a normalizing flow using the coupling function above. The input needs to just be a dictionary that contains the hyperparameters tof the flow. This allows compatibility with the NormalizingFlow class built below."
   ]
  },
  {
   "cell_type": "code",
   "execution_count": 4,
   "metadata": {},
   "outputs": [],
   "source": [
    "@nn.module\n",
    "def RQNeuralSplineFlow(hyperparams):\n",
    "    \"\"\"\n",
    "    A Normalizing Flow using rational quadratic splines for the\n",
    "    coupling layer. Returns a tensorflow probability transformed\n",
    "    distribution wrapped in a flax module.\n",
    "    \n",
    "    Input is a dictionary of hyperparameters.\n",
    "    The only required hyperparams are nfeatures and nlayers.\n",
    "    \"\"\"\n",
    "    \n",
    "    # unpack parameters from the hyperparameter dictionary\n",
    "    nfeatures = hyperparams['nfeatures']\n",
    "    nlayers = hyperparams['nlayers']\n",
    "    \n",
    "    # construct the chain of bijectors\n",
    "    # each layer consists of a RQ Spline\n",
    "    # followed by a permutation\n",
    "    \n",
    "    # first scale up by factor of 10\n",
    "    # not sure why - this was done in Francois' original notebook\n",
    "    # but it definitely helps performace ¯\\_(ツ)_/¯\n",
    "    chain = [tfb.Scale(10)]\n",
    "    for i in range(nlayers):\n",
    "        # each layer as a RQ spline\n",
    "        spline = RQNeuralSplineCoupling.shared(name=f'spline{i+1}',\n",
    "                                               hyperparams=hyperparams)\n",
    "        chain.append(RealNVP(nfeatures//2, bijector_fn=spline))\n",
    "        # and a permutation\n",
    "        chain.append(tfb.Permute(jnp.arange(nfeatures)[::-1]))\n",
    "    \n",
    "    # undo the mysterious scaling\n",
    "    chain.append(tfb.Scale(0.1))\n",
    "    # build a bijector chain from all these layers\n",
    "    chain = tfb.Chain(chain)\n",
    "    \n",
    "    # construct the flow\n",
    "    flow = tfd.TransformedDistribution(\n",
    "                    tfd.Normal(0,1),\n",
    "                    bijector=chain,\n",
    "                    event_shape=(nfeatures,))\n",
    "    \n",
    "    return flow"
   ]
  },
  {
   "cell_type": "markdown",
   "metadata": {},
   "source": [
    "Class to wrap a normalizing flow such that instantiation, log_prob, sampling, and training are easy"
   ]
  },
  {
   "cell_type": "code",
   "execution_count": 5,
   "metadata": {},
   "outputs": [],
   "source": [
    "class NormalizingFlow():\n",
    "    \"\"\"\n",
    "    Wrapper class for normalizing flows.\n",
    "    \n",
    "    Input:\n",
    "    module - a flax module that returns a tfd.TransformedDistribution object\n",
    "    hyperparams - a dictionary containing the hyperparameters for whatever module\n",
    "                    you're using. The only mandatory hyperparameter is 'nfeatures'\n",
    "    params - the model parameters. If not provided, random parameters are generated\n",
    "                    \n",
    "    Methods:\n",
    "    log_prob(x) - calculates the log probability that x is drawn from the\n",
    "                    transformed probability distribution\n",
    "    sample(n_samples, seed=0) - draws n_samples random samples from the distribution\n",
    "                    seed sets the random seed.\n",
    "    train(dataframe, niter=2000, batch_size=512, return_losses=False) - trains the\n",
    "                    normalizing flow on the given data set (which must be in the form\n",
    "                    of a pandas dataframe) and updates the model parameters. \n",
    "                    niter is the number of training iterations.\n",
    "                    batch_size is the size of batches to train on. \n",
    "                    If return_losses is True, returns a list of the training losses.\n",
    "    \"\"\"\n",
    "    \n",
    "    def __init__(self, module, hyperparams, params=None):\n",
    "        \n",
    "        # make sure the hyperparameter dict contains nfeatures\n",
    "        if 'nfeatures' not in hyperparams:\n",
    "            raise KeyError('nfeatures must be in the hyperparameter dictionary')\n",
    "        \n",
    "        # save the hyperparameters\n",
    "        self.hyperparams = hyperparams.copy()\n",
    "        \n",
    "        # create modules that calculate log_prob for and sample the flow\n",
    "        @nn.module\n",
    "        def log_prob_module(x):\n",
    "            return module(hyperparams).log_prob(x)\n",
    "        @nn.module\n",
    "        def sampler_module(n_samples, seed):\n",
    "            return module(hyperparams).sample(n_samples, seed)\n",
    "        \n",
    "        # if no params provided, create some random ones\n",
    "        if params is None:\n",
    "            dummy_input = jnp.zeros((1,hyperparams['nfeatures']))\n",
    "            _, params = log_prob_module.init(jax.random.PRNGKey(0), dummy_input)\n",
    "        self.params = params\n",
    "            \n",
    "        # create log_prob and sampler models\n",
    "        self._log_prob = nn.Model(log_prob_module, params)\n",
    "        self._sampler = nn.Model(sampler_module, params)\n",
    "        \n",
    "    def log_prob(self, x):\n",
    "        return self._log_prob(x)\n",
    "    \n",
    "    def sample(self, n_samples, seed=0):\n",
    "        return self._sampler(n_samples, jax.random.PRNGKey(seed))\n",
    "    \n",
    "    def train(self, dataframe, niter=2000, batch_size=512, return_losses=False, verbose=False):\n",
    "        # train the normalizing flow on the data in the dataframe\n",
    "\n",
    "        # the optimizer used for training\n",
    "        optimizer = flax.optim.Adam(learning_rate=0.001).create(self._log_prob)\n",
    "        \n",
    "        # compile a function that does a single training step\n",
    "        @jax.jit\n",
    "        def train_step(optimizer, batch):\n",
    "\n",
    "            def loss_fn(model):\n",
    "                log_prob = model(batch)\n",
    "                return -jnp.mean(log_prob)\n",
    "\n",
    "            loss, grad = jax.value_and_grad(loss_fn)(optimizer.target)\n",
    "            optimizer = optimizer.apply_gradient(grad)\n",
    "            return loss, optimizer\n",
    "        \n",
    "        # loop through the training\n",
    "        losses = []\n",
    "        for i in range(niter):\n",
    "            batch = jnp.array(dataframe.sample(n=batch_size, replace=False))\n",
    "            loss, optimizer = train_step(optimizer, batch)\n",
    "            losses.append(loss)\n",
    "            if verbose and i % 100 == 0:\n",
    "                print(loss)\n",
    "        \n",
    "        # update the parameters\n",
    "        self._log_prob = self._log_prob.replace(params=optimizer.target.params)\n",
    "        self._sampler = self._sampler.replace(params=optimizer.target.params)\n",
    "        self.params = optimizer.target.params\n",
    "        \n",
    "        # return list of training losses if true\n",
    "        if return_losses:\n",
    "            return losses"
   ]
  },
  {
   "cell_type": "markdown",
   "metadata": {},
   "source": [
    "## Testing the flow on data\n",
    "\n",
    "Now let's test it!\n",
    "\n",
    "Load the two moons data set"
   ]
  },
  {
   "cell_type": "code",
   "execution_count": 6,
   "metadata": {},
   "outputs": [],
   "source": [
    "from sklearn.datasets import make_moons\n",
    "import pandas as pd"
   ]
  },
  {
   "cell_type": "code",
   "execution_count": 7,
   "metadata": {},
   "outputs": [
    {
     "name": "stderr",
     "output_type": "stream",
     "text": [
      "/global/common/software/lsst/users/jfc20/mydesc/lib/python3.7/site-packages/jax/lib/xla_bridge.py:125: UserWarning: No GPU/TPU found, falling back to CPU.\n",
      "  warnings.warn('No GPU/TPU found, falling back to CPU.')\n"
     ]
    }
   ],
   "source": [
    "# load moons\n",
    "x, _ = make_moons(n_samples=int(1e4), noise=0.05)\n",
    "\n",
    "# center and enlarge the moons for aesthetics\n",
    "x[:,0] -= jnp.mean(x[:,0])\n",
    "x[:,1] -= jnp.mean(x[:,1])\n",
    "x *= jnp.array([1.5,2])\n",
    "\n",
    "# save moons in dataframe\n",
    "x = pd.DataFrame(x)"
   ]
  },
  {
   "cell_type": "markdown",
   "metadata": {},
   "source": [
    "Now train a normalizing flow to resemble the moons"
   ]
  },
  {
   "cell_type": "code",
   "execution_count": 8,
   "metadata": {},
   "outputs": [
    {
     "name": "stderr",
     "output_type": "stream",
     "text": [
      "/global/common/software/lsst/users/jfc20/mydesc/lib/python3.7/site-packages/jax/lax/lax.py:5591: UserWarning: Explicitly requested dtype <class 'jax.numpy.lax_numpy.int64'> requested in zeros is not available, and will be truncated to dtype int32. To enable more dtypes, set the jax_enable_x64 configuration option or the JAX_ENABLE_X64 shell environment variable. See https://github.com/google/jax#current-gotchas for more.\n",
      "  warnings.warn(msg.format(dtype, fun_name , truncated_dtype))\n",
      "/global/common/software/lsst/users/jfc20/mydesc/lib/python3.7/site-packages/jax/lax/lax.py:5591: UserWarning: Explicitly requested dtype <class 'jax.numpy.lax_numpy.int64'> requested in astype is not available, and will be truncated to dtype int32. To enable more dtypes, set the jax_enable_x64 configuration option or the JAX_ENABLE_X64 shell environment variable. See https://github.com/google/jax#current-gotchas for more.\n",
      "  warnings.warn(msg.format(dtype, fun_name , truncated_dtype))\n",
      "/global/common/software/lsst/users/jfc20/mydesc/lib/python3.7/site-packages/jax/numpy/lax_numpy.py:1531: FutureWarning: jax.numpy reductions won't accept lists and tuples in future versions, only scalars and ndarrays\n",
      "  warnings.warn(msg, category=FutureWarning)\n"
     ]
    }
   ],
   "source": [
    "hyperparams = {'nfeatures' : 2,\n",
    "               'nlayers' : 2,\n",
    "               'nbins' : 8,\n",
    "               'cf_range_max' : 1,\n",
    "               'cf_dim' : 128,\n",
    "               'cf_layers' : 2}\n",
    "\n",
    "flow = NormalizingFlow(RQNeuralSplineFlow, hyperparams)"
   ]
  },
  {
   "cell_type": "code",
   "execution_count": 9,
   "metadata": {},
   "outputs": [
    {
     "name": "stdout",
     "output_type": "stream",
     "text": [
      "initial loss ~ 3.1421\n"
     ]
    }
   ],
   "source": [
    "batch = jnp.array(x.sample(512))\n",
    "print(f'initial loss ~ {-jnp.mean(flow.log_prob(batch)):.4f}')"
   ]
  },
  {
   "cell_type": "code",
   "execution_count": 10,
   "metadata": {},
   "outputs": [
    {
     "name": "stdout",
     "output_type": "stream",
     "text": [
      "3.162623\n",
      "2.3776865\n",
      "1.9914384\n",
      "1.8762078\n",
      "1.8282069\n",
      "1.8393735\n",
      "1.6267208\n",
      "1.6411934\n",
      "1.5368361\n",
      "1.6539931\n",
      "1.5359755\n",
      "1.5693727\n",
      "1.592703\n",
      "1.5466552\n",
      "1.5019846\n",
      "1.4464111\n",
      "1.532389\n",
      "1.50842\n",
      "1.454832\n",
      "1.5156872\n",
      "CPU times: user 1min 27s, sys: 5.11 s, total: 1min 32s\n",
      "Wall time: 1min 19s\n"
     ]
    }
   ],
   "source": [
    "%time losses = flow.train(x, return_losses=True, verbose=True)"
   ]
  },
  {
   "cell_type": "code",
   "execution_count": 12,
   "metadata": {},
   "outputs": [
    {
     "name": "stdout",
     "output_type": "stream",
     "text": [
      "final loss ~ 1.5217\n"
     ]
    }
   ],
   "source": [
    "print(f'final loss ~ {-jnp.mean(flow.log_prob(batch)):.4f}')"
   ]
  },
  {
   "cell_type": "code",
   "execution_count": 11,
   "metadata": {},
   "outputs": [
    {
     "data": {
      "text/plain": [
       "[<matplotlib.lines.Line2D at 0x2aad96a56cd0>]"
      ]
     },
     "execution_count": 11,
     "metadata": {},
     "output_type": "execute_result"
    },
    {
     "data": {
      "image/png": "[encoded data removed]",
      "text/plain": [
       "<Figure size 432x288 with 1 Axes>"
      ]
     },
     "metadata": {
      "needs_background": "light"
     },
     "output_type": "display_data"
    }
   ],
   "source": [
    "plt.plot(losses)"
   ]
  },
  {
   "cell_type": "markdown",
   "metadata": {},
   "source": [
    "Plot the results"
   ]
  },
  {
   "cell_type": "code",
   "execution_count": 12,
   "metadata": {},
   "outputs": [
    {
     "data": {
      "image/png": "[encoded data removed]",
      "text/plain": [
       "<Figure size 1152x360 with 3 Axes>"
      ]
     },
     "metadata": {
      "needs_background": "light"
     },
     "output_type": "display_data"
    }
   ],
   "source": [
    "fig, (ax1,ax2,ax3) = plt.subplots(1,3,figsize=(16,5))\n",
    "\n",
    "samps = tfd.Normal(0,1).sample((10000,2), seed=jax.random.PRNGKey(0))\n",
    "ax1.hist2d(samps[:,0], samps[:,1], 64, range=[[-3,3],[-3,3]])\n",
    "ax1.set_title(\"Original Distribution\")\n",
    "\n",
    "samps = flow.sample(10000)\n",
    "ax2.hist2d(samps[:,0], samps[:,1], 64, range=[[-3,3],[-3,3]])\n",
    "ax2.set_title(\"Transformed Distribution\")\n",
    "\n",
    "ax3.hist2d(x[0], x[1], 64, range=[[-3,3],[-3,3]])\n",
    "ax3.set_title(\"Data\")\n",
    "\n",
    "plt.show()"
   ]
  },
  {
   "cell_type": "markdown",
   "metadata": {},
   "source": [
    "## Hyperparameter optimization with Hyperopt\n",
    "\n",
    "Now I will test searching the hyperparameter space using [hyperopt](https://hyperopt.github.io/hyperopt/). Here is an extensive [tutorial](https://www.kaggle.com/fanvacoolt/tutorial-on-hyperopt) (I have only skimmed it so far).\n",
    "\n",
    "You can parallelize the optimization, but I haven't looked into that yet. There is some info on that [here](https://blog.goodaudience.com/on-using-hyperopt-advanced-machine-learning-a2dde2ccece7)."
   ]
  },
  {
   "cell_type": "code",
   "execution_count": 13,
   "metadata": {},
   "outputs": [],
   "source": [
    "from sklearn.model_selection import train_test_split\n",
    "from hyperopt import hp, fmin, tpe, Trials, space_eval, STATUS_OK"
   ]
  },
  {
   "cell_type": "markdown",
   "metadata": {},
   "source": [
    "First split the data set into a training and test set. We will train the flows on the training set, but compare different hyperparameter choices by evaluating the loss on the test set."
   ]
  },
  {
   "cell_type": "code",
   "execution_count": 14,
   "metadata": {},
   "outputs": [],
   "source": [
    "trainingset, testset = train_test_split(x, train_size=0.8, random_state=0)"
   ]
  },
  {
   "cell_type": "markdown",
   "metadata": {},
   "source": [
    "Now the objective function to minimize. It takes a set of hyperparameters, creates a flow, trains it on the training set, then evaluates the loss on the test set. The function returns a dictionary that contains the loss, the corresponding trained flow, and a status indicator which is required by hyperopt when returning a dictionary."
   ]
  },
  {
   "cell_type": "code",
   "execution_count": 15,
   "metadata": {},
   "outputs": [],
   "source": [
    "def objective(hyperparams):\n",
    "    \n",
    "    flow = NormalizingFlow(RQNeuralSplineFlow, hyperparams)\n",
    "    flow.train(trainingset)\n",
    "    loss = -np.mean(flow.log_prob(testset))\n",
    "    \n",
    "    return {'loss' : loss, 'flow' : flow, 'status': STATUS_OK}"
   ]
  },
  {
   "cell_type": "markdown",
   "metadata": {},
   "source": [
    "Now define the space of hyperparameters to search (documentation [here](https://github.com/hyperopt/hyperopt/wiki/FMin)). Hyperopt allows you to build complicated, nested hyperparameter spaces, but for this test I do a small, simple search. The aim isn't to find the best hyperparameters, just to test hyperopt."
   ]
  },
  {
   "cell_type": "code",
   "execution_count": 16,
   "metadata": {},
   "outputs": [],
   "source": [
    "space = {'nfeatures' : 2,\n",
    "         'nlayers' : 2 + hp.randint('nlayers', 2),\n",
    "         'nbins' : 20 + hp.randint('nbins', 16),\n",
    "         'cf_range_max' : 1,\n",
    "         'cf_dim' : 128,\n",
    "         'cf_layers' : 2}"
   ]
  },
  {
   "cell_type": "markdown",
   "metadata": {},
   "source": [
    "Finally, minimize the validation loss with respect to the hyperparameters (documentation [here](https://github.com/hyperopt/hyperopt/wiki/FMin)). The Trials object keeps track of the results for every step of the minimization. The search algorithm is a Tree-structured Parzen Estimator ([explanation here](http://neupy.com/2016/12/17/hyperparameter_optimization_for_neural_networks.html#tree-structured-parzen-estimators-tpe))."
   ]
  },
  {
   "cell_type": "code",
   "execution_count": 17,
   "metadata": {},
   "outputs": [
    {
     "name": "stdout",
     "output_type": "stream",
     "text": [
      "100%|██████████| 4/4 [20:42<00:00, 310.56s/trial, best loss: 1.4182536602020264]\n"
     ]
    }
   ],
   "source": [
    "trials = Trials()\n",
    "best = fmin(objective, space, algo=tpe.suggest, max_evals=4, trials=trials, rstate=np.random.seed(0))"
   ]
  },
  {
   "cell_type": "markdown",
   "metadata": {},
   "source": [
    "Here are the hyperparameters with the best validation loss."
   ]
  },
  {
   "cell_type": "code",
   "execution_count": 18,
   "metadata": {},
   "outputs": [
    {
     "data": {
      "text/plain": [
       "{'cf_dim': 128,\n",
       " 'cf_layers': 2,\n",
       " 'cf_range_max': 1,\n",
       " 'nbins': 27,\n",
       " 'nfeatures': 2,\n",
       " 'nlayers': 3}"
      ]
     },
     "execution_count": 18,
     "metadata": {},
     "output_type": "execute_result"
    }
   ],
   "source": [
    "space_eval(space, best)"
   ]
  },
  {
   "cell_type": "markdown",
   "metadata": {},
   "source": [
    "Plot the results"
   ]
  },
  {
   "cell_type": "code",
   "execution_count": 19,
   "metadata": {},
   "outputs": [
    {
     "data": {
      "image/png": "[encoded data removed]",
      "text/plain": [
       "<Figure size 1152x360 with 3 Axes>"
      ]
     },
     "metadata": {
      "needs_background": "light"
     },
     "output_type": "display_data"
    }
   ],
   "source": [
    "fig, (ax1,ax2,ax3) = plt.subplots(1,3,figsize=(16,5))\n",
    "\n",
    "samps = tfd.Normal(0,1).sample((10000,2), seed=jax.random.PRNGKey(0))\n",
    "ax1.hist2d(samps[:,0], samps[:,1], 64, range=[[-3,3],[-3,3]])\n",
    "ax1.set_title(\"Original Distribution\")\n",
    "\n",
    "samps = trials.best_trial['result']['flow'].sample(10000)\n",
    "ax2.hist2d(samps[:,0], samps[:,1], 64, range=[[-3,3],[-3,3]])\n",
    "ax2.set_title(\"Best Transformed Distribution\")\n",
    "\n",
    "ax3.hist2d(x[0], x[1], 64, range=[[-3,3],[-3,3]])\n",
    "ax3.set_title(\"Data\")\n",
    "\n",
    "plt.show()"
   ]
  },
  {
   "cell_type": "code",
   "execution_count": null,
   "metadata": {},
   "outputs": [],
   "source": []
  }
 ],
 "metadata": {
  "kernelspec": {
   "display_name": "mydesc",
   "language": "python",
   "name": "mydesc"
  },
  "language_info": {
   "codemirror_mode": {
    "name": "ipython",
    "version": 3
   },
   "file_extension": ".py",
   "mimetype": "text/x-python",
   "name": "python",
   "nbconvert_exporter": "python",
   "pygments_lexer": "ipython3",
   "version": "3.7.6"
  }
 },
 "nbformat": 4,
 "nbformat_minor": 4
}
