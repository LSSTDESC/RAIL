{
 "cells": [
  {
   "cell_type": "markdown",
   "metadata": {},
   "source": [
    "# Demo: RAIL Evaluation \n",
    "\n",
    "_Sam Schmidt, Alex Malz, Julia Gschwend_ ([julia@linea.gov.br](mailto:julia@linea.gov.br))\n",
    "\n",
    "The purpose of this notebook is to demonstrate the use of the metrics scripts to be used on the photo-$z$ PDF catalogs produced by the PZ working group. The first implementation of the _evaluation_ module is based on the refactoring of the algorithms used in [Schmidt et al. 2020](https://arxiv.org/pdf/2001.03621.pdf), available on Github repository [PZDC1paper](https://github.com/LSSTDESC/PZDC1paper). \n",
    "\n"
   ]
  },
  {
   "cell_type": "code",
   "execution_count": null,
   "metadata": {},
   "outputs": [],
   "source": [
    "import qp\n",
    "import h5py\n",
    "import numpy as np\n",
    "import matplotlib.pyplot as plt\n",
    "import pandas as pd\n",
    "import seaborn as sns\n",
    "import warnings\n",
    "warnings.filterwarnings('ignore')\n",
    "\n",
    "\n",
    "#import os\n",
    "#import yaml\n",
    "#from astropy.table import Table, QTable\n",
    "\n",
    "from rail.evaluation.metrics import Data\n",
    "\n",
    "%matplotlib inline\n",
    "%load_ext autoreload\n",
    "%autoreload 2"
   ]
  },
  {
   "cell_type": "markdown",
   "metadata": {},
   "source": [
    "# 1.Data  \n",
    "\n",
    "To compute the photo-z metrics of a given test sample, it is necessary to read the output of a photo-z code containing galaxies' photo-z PDFs. Let's generate a small sample of photo-z PDFs by running the FlexZBoost algorithm available in RAIL's _estimation_ module, using the toy data available in `tests/data/` (**test_dc2_training_9816.hdf5** and **test_dc2_validation_9816.hdf5**) and the config file available in `examples/config/`. "
   ]
  },
  {
   "cell_type": "markdown",
   "metadata": {},
   "source": [
    "First, a quick characterization of the validation sample... "
   ]
  },
  {
   "cell_type": "code",
   "execution_count": null,
   "metadata": {},
   "outputs": [],
   "source": [
    "my_path = '/Users/julia/github/' # replace it by your path to RAIL's parent dir\n",
    "valid_file = my_path + 'RAIL/tests/data/test_dc2_validation_9816.hdf5'"
   ]
  },
  {
   "cell_type": "code",
   "execution_count": null,
   "metadata": {},
   "outputs": [],
   "source": [
    "with h5py.File(valid_file ,'r') as valid_set:\n",
    "    print(valid_set['photometry'].keys())"
   ]
  },
  {
   "cell_type": "code",
   "execution_count": null,
   "metadata": {},
   "outputs": [],
   "source": [
    "with h5py.File(my_path + 'RAIL/tests/data/test_dc2_validation_9816.hdf5' ,'r') as valid_set:\n",
    "    ztrue = np.array(valid_set['photometry']['redshift'])\n",
    "    mag_u = np.array(valid_set['photometry']['mag_u_lsst'])\n",
    "    mag_g = np.array(valid_set['photometry']['mag_g_lsst'])\n",
    "    mag_r = np.array(valid_set['photometry']['mag_r_lsst'])\n",
    "    mag_i = np.array(valid_set['photometry']['mag_i_lsst'])\n",
    "    mag_z = np.array(valid_set['photometry']['mag_z_lsst'])\n",
    "    mag_y = np.array(valid_set['photometry']['mag_y_lsst'])"
   ]
  },
  {
   "cell_type": "code",
   "execution_count": null,
   "metadata": {},
   "outputs": [],
   "source": [
    "valid_df = pd.DataFrame({'z' : ztrue, 'mag u' : mag_u, 'mag g' : mag_g, 'mag r' : mag_r,\n",
    "                         'mag i' : mag_i, 'mag z' : mag_z, 'mag y' : mag_y}) \n",
    "bands = ['u', 'g', 'r', 'i', 'z', 'y']"
   ]
  },
  {
   "cell_type": "code",
   "execution_count": null,
   "metadata": {},
   "outputs": [],
   "source": [
    "valid_df.describe()"
   ]
  },
  {
   "cell_type": "code",
   "execution_count": null,
   "metadata": {},
   "outputs": [],
   "source": [
    "plt.figure(figsize=(10,4))\n",
    "plt.subplot(121)\n",
    "sns.kdeplot(valid_df['z'], shade=True)\n",
    "plt.xlabel('$z_{true}$')\n",
    "plt.subplot(122)\n",
    "for i, band in enumerate(bands):\n",
    "    sns.kdeplot(valid_df[f'mag {band}'][valid_df[f'mag {band}']<40.], shade=True, label=band)\n",
    "plt.xlim(18, 30)\n",
    "plt.xlabel('mag')\n",
    "plt.legend()\n",
    "plt.tight_layout()"
   ]
  },
  {
   "cell_type": "markdown",
   "metadata": {},
   "source": [
    "### Run FlexZBoost \n",
    "\n",
    "Go to dir  `<your_path>/RAIL/examples/` and run the command: `python main.py configs/FZBoost.yaml`.\n",
    "\n",
    "The FlexZBoost's output file (our input file) will be writen at `<your_path>/RAIL/examples/results/FZBoost/test_FZBoost.hdf5`."
   ]
  },
  {
   "cell_type": "markdown",
   "metadata": {},
   "source": [
    "Let's create a Data object containing both the PDFs and true redshifts."
   ]
  },
  {
   "cell_type": "code",
   "execution_count": null,
   "metadata": {},
   "outputs": [],
   "source": [
    "pdfs_file = my_path + 'RAIL/examples/results/FZBoost/test_FZBoost.hdf5'\n",
    "data = Data(pdfs_file, valid_file)"
   ]
  },
  {
   "cell_type": "code",
   "execution_count": null,
   "metadata": {},
   "outputs": [],
   "source": [
    "print(data)"
   ]
  },
  {
   "cell_type": "markdown",
   "metadata": {},
   "source": [
    "PDFs of 5 galaxies for illustration"
   ]
  },
  {
   "cell_type": "code",
   "execution_count": null,
   "metadata": {},
   "outputs": [],
   "source": [
    "#gals = np.random.choice(len(ztrue), 4)\n",
    "gals = [540, 2256, 12175, 17802, 19502]\n",
    "colors = data.plot_pdfs(gals)"
   ]
  },
  {
   "cell_type": "markdown",
   "metadata": {},
   "source": [
    "Traditional validation plots (point colors follow the PDFs above)"
   ]
  },
  {
   "cell_type": "code",
   "execution_count": null,
   "metadata": {},
   "outputs": [],
   "source": [
    "data.old_valid_plots(gals, colors)"
   ]
  },
  {
   "cell_type": "markdown",
   "metadata": {},
   "source": [
    "# 2. QQ plots"
   ]
  },
  {
   "cell_type": "code",
   "execution_count": null,
   "metadata": {},
   "outputs": [],
   "source": []
  },
  {
   "cell_type": "code",
   "execution_count": null,
   "metadata": {},
   "outputs": [],
   "source": []
  },
  {
   "cell_type": "code",
   "execution_count": null,
   "metadata": {},
   "outputs": [],
   "source": []
  },
  {
   "cell_type": "code",
   "execution_count": null,
   "metadata": {},
   "outputs": [],
   "source": []
  },
  {
   "cell_type": "markdown",
   "metadata": {},
   "source": [
    "# 3. Metrics"
   ]
  },
  {
   "cell_type": "code",
   "execution_count": null,
   "metadata": {},
   "outputs": [],
   "source": []
  }
 ],
 "metadata": {
  "kernelspec": {
   "display_name": "Python 3",
   "language": "python",
   "name": "python3"
  },
  "language_info": {
   "codemirror_mode": {
    "name": "ipython",
    "version": 3
   },
   "file_extension": ".py",
   "mimetype": "text/x-python",
   "name": "python",
   "nbconvert_exporter": "python",
   "pygments_lexer": "ipython3",
   "version": "3.7.9"
  }
 },
 "nbformat": 4,
 "nbformat_minor": 4
}
