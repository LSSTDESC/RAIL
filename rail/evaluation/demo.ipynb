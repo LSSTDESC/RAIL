{
 "cells": [
  {
   "cell_type": "markdown",
   "metadata": {},
   "source": [
    "# Demo: RAIL Evaluation \n",
    "\n",
    "_Sam Schmidt, Alex Malz, Julia Gschwend_ ([julia@linea.gov.br](mailto:julia@linea.gov.br))\n",
    "\n",
    "The purpose of this notebook is to demonstrate the use of the metrics scripts to be used on the photo-$z$ PDF catalogs produced by the PZ working group. The first implementation of the _evaluation_ module is based on the refactoring of the algorithms used in [Schmidt et al. 2020](https://arxiv.org/pdf/2001.03621.pdf), available on Github repository [PZDC1paper](https://github.com/LSSTDESC/PZDC1paper). \n",
    "\n",
    "To run this code, you must install qp and have the notebook in the same directory as metrics.py. You must also install some run-of-the-mill Python packages: matplotlib, numpy, scipy, and skgof.\n",
    "\n",
    "\n"
   ]
  },
  {
   "cell_type": "code",
   "execution_count": null,
   "metadata": {},
   "outputs": [],
   "source": [
    "import warnings\n",
    "warnings.filterwarnings('ignore')\n",
    "\n",
    "from sample import Sample\n",
    "from metrics import Metrics\n",
    "\n",
    "%matplotlib inline\n",
    "%load_ext autoreload\n",
    "%autoreload 2"
   ]
  },
  {
   "cell_type": "markdown",
   "metadata": {},
   "source": [
    "<font color='red'>WARNING: error when importing skgof -> No module named 'scipy._lib.six' </font>"
   ]
  },
  {
   "cell_type": "markdown",
   "metadata": {},
   "source": [
    "# 1. Sample  \n",
    "\n",
    "To compute the photo-z metrics of a given test sample, it is necessary to read the output of a photo-z code containing galaxies' photo-z PDFs. Let's use the toy data available in `tests/data/` (**test_dc2_training_9816.hdf5** and **test_dc2_validation_9816.hdf5**) and the configuration file available in `examples/configs/FZBoost.yaml` to generate a small samples of photo-z PDFs using the **FZBoost** algorithm available on RAIL's _estimation_ module."
   ]
  },
  {
   "cell_type": "markdown",
   "metadata": {},
   "source": [
    "### Run FZBoost\n",
    "\n",
    "Go to dir  `<your_path>/RAIL/examples/` and run the command `python main.py configs/FZBoost.yaml`.\n",
    "The photo-z output files (inputs for this notebook) will be writen at: `<your_path>/RAIL/examples/results/FZBoost/test_FZBoost.hdf5`. "
   ]
  },
  {
   "cell_type": "markdown",
   "metadata": {},
   "source": [
    "<font color='red'>The new RAIL's version will produce output of the codes as qp files rather than the old format hdf5 files (Sam's message on Slack about RAIL's issue#33). TO DO: update the read() function of class Data </font>"
   ]
  },
  {
   "cell_type": "markdown",
   "metadata": {},
   "source": [
    "Let's create a Sample object containing both the PDFs and true redshifts for each photo-z code."
   ]
  },
  {
   "cell_type": "code",
   "execution_count": null,
   "metadata": {},
   "outputs": [],
   "source": [
    "my_path = '/Users/julia/github/RAIL' # replace it by your path to RAIL's parent dir\n",
    "pdfs_file = my_path + '/examples/results/FZBoost/test_FZBoost.hdf5'\n",
    "valid_file = my_path + '/tests/data/test_dc2_validation_9816.hdf5'\n",
    "sample = Sample(pdfs_file, valid_file, name=\"FZBoost\")"
   ]
  },
  {
   "cell_type": "code",
   "execution_count": null,
   "metadata": {},
   "outputs": [],
   "source": [
    "print(sample)"
   ]
  },
  {
   "cell_type": "markdown",
   "metadata": {},
   "source": [
    "PDFs of 5 galaxies for illustration."
   ]
  },
  {
   "cell_type": "code",
   "execution_count": null,
   "metadata": {},
   "outputs": [],
   "source": [
    "#gals = np.random.choice(len(ztrue), 5)\n",
    "gals = [540, 2256, 12175, 17802, 19502]\n",
    "colors = sample.plot_pdfs(gals)"
   ]
  },
  {
   "cell_type": "markdown",
   "metadata": {},
   "source": [
    "Traditional validation plots (point colors follow the PDFs above)"
   ]
  },
  {
   "cell_type": "code",
   "execution_count": null,
   "metadata": {},
   "outputs": [],
   "source": [
    "sample.plot_old_valid(gals=gals, colors=colors)"
   ]
  },
  {
   "cell_type": "markdown",
   "metadata": {},
   "source": [
    "# 2. QQ and PIT plots"
   ]
  },
  {
   "cell_type": "markdown",
   "metadata": {},
   "source": []
  },
  {
   "cell_type": "code",
   "execution_count": null,
   "metadata": {},
   "outputs": [],
   "source": [
    "metrics = Metrics(sample)"
   ]
  },
  {
   "cell_type": "code",
   "execution_count": null,
   "metadata": {},
   "outputs": [],
   "source": [
    "metrics_FZBoost.plot_qq()"
   ]
  },
  {
   "cell_type": "code",
   "execution_count": null,
   "metadata": {},
   "outputs": [],
   "source": []
  },
  {
   "cell_type": "code",
   "execution_count": null,
   "metadata": {},
   "outputs": [],
   "source": []
  },
  {
   "cell_type": "code",
   "execution_count": null,
   "metadata": {},
   "outputs": [],
   "source": [
    "pits = metrics.pit"
   ]
  },
  {
   "cell_type": "code",
   "execution_count": null,
   "metadata": {},
   "outputs": [],
   "source": [
    "len(pits)"
   ]
  },
  {
   "cell_type": "code",
   "execution_count": null,
   "metadata": {},
   "outputs": [],
   "source": [
    "import matplotlib.pyplot as plt"
   ]
  },
  {
   "cell_type": "code",
   "execution_count": null,
   "metadata": {},
   "outputs": [],
   "source": [
    "print(pits)"
   ]
  },
  {
   "cell_type": "code",
   "execution_count": null,
   "metadata": {},
   "outputs": [],
   "source": []
  },
  {
   "cell_type": "code",
   "execution_count": null,
   "metadata": {},
   "outputs": [],
   "source": [
    "plt.hist(pits, bins=100, density=True)\n",
    "plt.xlim(0,1)"
   ]
  },
  {
   "cell_type": "code",
   "execution_count": null,
   "metadata": {},
   "outputs": [],
   "source": [
    "uni = np.random.uniform(low=0.0, high=1.0, size=len(pits))"
   ]
  },
  {
   "cell_type": "code",
   "execution_count": null,
   "metadata": {},
   "outputs": [],
   "source": [
    "nbins=80\n",
    "y = len(pits)/nbins\n",
    "erry = 2*y/np.sqrt(y)\n",
    "b = np.linspace(0.,1.,nbins)"
   ]
  },
  {
   "cell_type": "code",
   "execution_count": null,
   "metadata": {},
   "outputs": [],
   "source": [
    "ax = plt.subplot(111)\n",
    "plt.hist(pits, bins=nbins)#, density=True)\n",
    "#plt.hist(uni, bins=nbins, alpha=0.5)#, density=True)\n",
    "plt.hlines(y, xmin=0, xmax=1, color='k')\n",
    "ax.fill_between(b, y1 = y+erry, y2=y-erry, color='k', alpha=0.3)\n",
    "plt.xlim(0,1)"
   ]
  },
  {
   "cell_type": "code",
   "execution_count": null,
   "metadata": {},
   "outputs": [],
   "source": [
    "codes = {\"code 1\": 1,\n",
    "        \"code 3\": 5,\n",
    "        \"code 2\": 20}"
   ]
  },
  {
   "cell_type": "code",
   "execution_count": null,
   "metadata": {},
   "outputs": [],
   "source": []
  },
  {
   "cell_type": "markdown",
   "metadata": {},
   "source": [
    "# 3. Metrics\n",
    "\n"
   ]
  },
  {
   "cell_type": "markdown",
   "metadata": {},
   "source": [
    "### 3.1 PIT outlier fraction"
   ]
  },
  {
   "cell_type": "markdown",
   "metadata": {},
   "source": [
    "The first metric we calculate is the Probability Integral Transform (PIT), \n",
    "\\begin{equation*}\n",
    "\\mathrm{PIT}(p_{i}(z);\\ z_{i})\\ =\\ \\int_{-\\infty}^{z_{i}}\\ p_{i}(z)\\ dz,\n",
    "\\end{equation*}\n",
    "for every galxy $i$ in the catalog."
   ]
  },
  {
   "cell_type": "code",
   "execution_count": null,
   "metadata": {},
   "outputs": [],
   "source": []
  },
  {
   "cell_type": "markdown",
   "metadata": {},
   "source": [
    "### 3.2 CDE Loss"
   ]
  },
  {
   "cell_type": "code",
   "execution_count": null,
   "metadata": {},
   "outputs": [],
   "source": []
  },
  {
   "cell_type": "code",
   "execution_count": null,
   "metadata": {},
   "outputs": [],
   "source": []
  },
  {
   "cell_type": "markdown",
   "metadata": {},
   "source": [
    "### 3.3 Kolmogorov-Smirnov  \n",
    "\n",
    "\n",
    "Next, we calculate the Kolmogorov-Smirnov (KS) test statistic,\n",
    "\\begin{equation*}\n",
    "\\mathrm{KS}(\\{p_{i}(z)\\}_{N};\\ \\{z_{i}\\}_{N})\\ =\\ \\max_{PIT}\\left[ \\left| CDF(\\{PIT(p_{i}(z);\\ z_{i})\\}_{N}) - CDF(\\{z_{i}\\}_{N}) \\right| \\right],\n",
    "\\end{equation*}\n",
    "on the distribution of PIT values, which should be uniform if the PDFs are perfect."
   ]
  },
  {
   "cell_type": "code",
   "execution_count": null,
   "metadata": {},
   "outputs": [],
   "source": []
  },
  {
   "cell_type": "markdown",
   "metadata": {},
   "source": [
    "### 3.4 Cramer-von Mises\n",
    "\n",
    "Similarly, we calculate the Cramer-von Mises (CvM) test statistic,\n",
    "\\begin{equation*}\n",
    "\\mathrm{CvM}(\\{p_{i}(z)\\}_{N};\\ \\{z_{i}\\}_{N})\\ =\\ \\int_{-\\infty}^{\\infty}\\ \\left(CDF(\\{PIT(p_{i}(z);\\ z_{i})\\}_{N})\\ -\\ CDF(\\{z_{i}\\}_{N})\\right)^{2}\\ \\mathrm{d}CDF(\\{z_{i}\\}_{N}),\n",
    "\\end{equation*}\n",
    "on the distribution of PIT values, which should be uniform if the PDFs are perfect."
   ]
  },
  {
   "cell_type": "code",
   "execution_count": null,
   "metadata": {},
   "outputs": [],
   "source": []
  },
  {
   "cell_type": "code",
   "execution_count": null,
   "metadata": {},
   "outputs": [],
   "source": []
  },
  {
   "cell_type": "markdown",
   "metadata": {},
   "source": [
    "### 3.5 Anderson-Darling \n",
    "\n",
    "And the Anderson-Darling (AD) test statistic,\n",
    "\\begin{equation*}\n",
    "\\mathrm{AD}(\\{p_{i}(z)\\}_{N};\\ \\{z_{i}\\}_{N})\\ =\\ \\int_{-\\infty}^{\\infty}\\frac{\\left(CDF(\\{PIT(p_{i}(z);\\ z_{i})\\}_{N})\\ -\\ CDF(\\{z_{i}\\}_{N})\\right)^{2}}{CDF(\\{z_{i}\\}_{N})\\ \\left(1\\ -\\ CDF(\\{z_{i}\\}_{N})\\right)}\\ \\mathrm{d}CDF(\\{z_{i}\\}_{N}),\n",
    "\\end{equation*}\n",
    "on the distribution of PIT values, which should be uniform if the PDFs are perfect.  However, for this test, we cut the ends of the distribution, which represent catastrophic utliers.  \n"
   ]
  },
  {
   "cell_type": "code",
   "execution_count": null,
   "metadata": {},
   "outputs": [],
   "source": []
  }
 ],
 "metadata": {
  "kernelspec": {
   "display_name": "Python 3",
   "language": "python",
   "name": "python3"
  },
  "language_info": {
   "codemirror_mode": {
    "name": "ipython",
    "version": 3
   },
   "file_extension": ".py",
   "mimetype": "text/x-python",
   "name": "python",
   "nbconvert_exporter": "python",
   "pygments_lexer": "ipython3",
   "version": "3.7.9"
  }
 },
 "nbformat": 4,
 "nbformat_minor": 4
}
