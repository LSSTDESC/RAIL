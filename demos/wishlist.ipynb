{
 "cells": [
  {
   "cell_type": "code",
   "execution_count": null,
   "metadata": {},
   "outputs": [],
   "source": [
    "import pandas as pd\n",
    "import pomegranate as pm\n",
    "\n",
    "import rail\n"
   ]
  },
  {
   "cell_type": "code",
   "execution_count": null,
   "metadata": {},
   "outputs": [],
   "source": [
    "test_creator = rail.Creator()"
   ]
  },
  {
   "cell_type": "code",
   "execution_count": null,
   "metadata": {},
   "outputs": [],
   "source": [
    "sim_samples = pd.from_csv('dc2_z_photometry.csv')"
   ]
  },
  {
   "cell_type": "code",
   "execution_count": null,
   "metadata": {},
   "outputs": [],
   "source": [
    "sim_samples.columns"
   ]
  },
  {
   "cell_type": "markdown",
   "metadata": {},
   "source": [
    "`>> ['zTrue', 'u', 'g', 'r', 'i', 'z', 'y', 'uErr', 'gErr', 'rErr', 'iErr', 'zErr', 'yErr']`"
   ]
  },
  {
   "cell_type": "code",
   "execution_count": null,
   "metadata": {},
   "outputs": [],
   "source": [
    "test_Pjoint = test_creator.make_Pjoint(inputs=sim_samples, params='Pjoint_params_file.pkl')"
   ]
  },
  {
   "cell_type": "code",
   "execution_count": null,
   "metadata": {},
   "outputs": [],
   "source": [
    "type(test_Pjoint)"
   ]
  },
  {
   "cell_type": "markdown",
   "metadata": {},
   "source": [
    "`>> pomegranate.GeneralMixtureModel`"
   ]
  },
  {
   "cell_type": "code",
   "execution_count": null,
   "metadata": {},
   "outputs": [],
   "source": [
    "test_catalog = test_creator.sample_pspace(n_gals=1e9, output_dims=('zTrue', 'g', 'r', 'i', 'z', 'y', 'gErr', 'rErr', 'iErr', 'zErr', 'yErr'))"
   ]
  },
  {
   "cell_type": "code",
   "execution_count": null,
   "metadata": {},
   "outputs": [],
   "source": [
    "type(test_catalog)"
   ]
  },
  {
   "cell_type": "markdown",
   "metadata": {},
   "source": [
    "`>> rail.RailInfo`"
   ]
  },
  {
   "cell_type": "code",
   "execution_count": null,
   "metadata": {},
   "outputs": [],
   "source": [
    "test_catalog.data.keys"
   ]
  },
  {
   "cell_type": "markdown",
   "metadata": {},
   "source": [
    "`>> ('zTrue', 'g', 'r', 'i', 'z', 'y', 'gErr', 'rErr', 'iErr', 'zErr', 'yErr', 'pz')`"
   ]
  },
  {
   "cell_type": "code",
   "execution_count": null,
   "metadata": {},
   "outputs": [],
   "source": [
    "test_catalog.metadata.keys"
   ]
  },
  {
   "cell_type": "markdown",
   "metadata": {},
   "source": [
    "`>> ('transfer_func', 'Pjoint', 'PzParameterization')`"
   ]
  },
  {
   "cell_type": "code",
   "execution_count": null,
   "metadata": {},
   "outputs": [],
   "source": [
    "test_catalog.export(fn='pzdc2testset.pkl', scope='public', data_keys=('g', 'r', 'i', 'z', 'y', 'gErr', 'rErr', 'iErr', 'zErr', 'yErr'), metadata_keys=('transfer_function'))  \n",
    "test_catalog.export(fn='pzdc2testsecret.pkl', scope='private', data_keys=('zTrue', 'Pz'), metadata_keys=('Pjoint', 'PzParameterization'))"
   ]
  },
  {
   "cell_type": "code",
   "execution_count": null,
   "metadata": {},
   "outputs": [],
   "source": [
    "train_creator = rail.Creator()"
   ]
  },
  {
   "cell_type": "code",
   "execution_count": null,
   "metadata": {},
   "outputs": [],
   "source": [
    "train_Pjoint = train_creator.make_Pjoint(inputs=test_Pjoint, params='spec_sel_func_params_file.pkl')"
   ]
  },
  {
   "cell_type": "code",
   "execution_count": null,
   "metadata": {},
   "outputs": [],
   "source": [
    "train_catalog = train_creator.sample_pspace(n_gals=1e6, output_dims=('zTrue', 'g', 'r', 'i', 'z', 'y', 'gErr', 'rErr', 'iErr', 'zErr', 'yErr'))"
   ]
  },
  {
   "cell_type": "code",
   "execution_count": null,
   "metadata": {},
   "outputs": [],
   "source": [
    "train_catalog.export(fn='pzdc2trainset.pkl', scope='public', data_keys=('zTrue', 'g', 'r', 'i', 'z', 'y', 'gErr', 'rErr', 'iErr', 'zErr', 'yErr'), metadata_keys=('transfer_function'))  \n",
    "train_catalog.export(fn='pzdc2trainsecret.pkl', scope='private', data_keys=('Pz'), metadata_keys=('Pjoint', 'PzParameterization'))"
   ]
  }
 ],
 "metadata": {
  "kernelspec": {
   "display_name": "LSST-DESC (Python 3)",
   "language": "python",
   "name": "lsstdesc_3"
  },
  "language_info": {
   "codemirror_mode": {
    "name": "ipython",
    "version": 3
   },
   "file_extension": ".py",
   "mimetype": "text/x-python",
   "name": "python",
   "nbconvert_exporter": "python",
   "pygments_lexer": "ipython3",
   "version": "3.6.8"
  }
 },
 "nbformat": 4,
 "nbformat_minor": 2
}
